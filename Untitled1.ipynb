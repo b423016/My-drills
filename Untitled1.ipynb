{
 "cells": [
  {
   "cell_type": "code",
   "execution_count": 2,
   "id": "e16e2f7f-6975-4a83-b44b-5907298b4666",
   "metadata": {},
   "outputs": [
    {
     "name": "stdout",
     "output_type": "stream",
     "text": [
      "torch.Size([10, 512])\n"
     ]
    }
   ],
   "source": [
    "import numpy as np\n",
    "import torch\n",
    "\n",
    "def get_sinusoidal_position_encoding(seq_len, d_model):\n",
    "    # Initialize position encoding matrix\n",
    "    position_encoding = np.zeros((seq_len, d_model))\n",
    "    \n",
    "    # Calculate positions and dimensions\n",
    "    position = np.arange(0, seq_len).reshape(-1, 1)\n",
    "    div_term = np.exp(np.arange(0, d_model, 2) * -(np.log(10000.0) / d_model))\n",
    "    \n",
    "    # Apply sin to even indices, cos to odd indices\n",
    "    position_encoding[:, 0::2] = np.sin(position * div_term)\n",
    "    position_encoding[:, 1::2] = np.cos(position * div_term)\n",
    "    \n",
    "    return torch.FloatTensor(position_encoding)\n",
    "\n",
    "# Example usage\n",
    "seq_len = 10  # Length of the input sequence\n",
    "d_model = 512  # Embedding dimension size\n",
    "position_encoding = get_sinusoidal_position_encoding(seq_len, d_model)\n",
    "print(position_encoding.shape)  # Output: torch.Size([10, 512])\n"
   ]
  },
  {
   "cell_type": "code",
   "execution_count": null,
   "id": "1d2752b4",
   "metadata": {},
   "outputs": [],
   "source": [
    "%pip install sklearn"
   ]
  },
  {
   "cell_type": "code",
   "execution_count": null,
   "id": "3e900465",
   "metadata": {},
   "outputs": [],
   "source": [
    "%pip install scikit_learn"
   ]
  },
  {
   "cell_type": "code",
   "execution_count": null,
   "id": "26235e28",
   "metadata": {},
   "outputs": [],
   "source": [
    "from sklearn.datasets import fetch_openml\n",
    "import numpy as np\n",
    "mnist = fetch_openml('mnist_784', version=1)\n",
    "mnist.keys()"
   ]
  }
 ],
 "metadata": {
  "kernelspec": {
   "display_name": "Python 3 (ipykernel)",
   "language": "python",
   "name": "python3"
  },
  "language_info": {
   "codemirror_mode": {
    "name": "ipython",
    "version": 3
   },
   "file_extension": ".py",
   "mimetype": "text/x-python",
   "name": "python",
   "nbconvert_exporter": "python",
   "pygments_lexer": "ipython3",
   "version": "3.12.4"
  }
 },
 "nbformat": 4,
 "nbformat_minor": 5
}
