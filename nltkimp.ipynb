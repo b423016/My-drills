{
 "cells": [
  {
   "cell_type": "code",
   "execution_count": 128,
   "id": "6518c4ef-7a83-45e4-8c70-f38d6bff39de",
   "metadata": {},
   "outputs": [
    {
     "name": "stdout",
     "output_type": "stream",
     "text": [
      "             tweet_id airline_sentiment  airline_sentiment_confidence  \\\n",
      "0  570306133677760513           neutral                        1.0000   \n",
      "1  570301130888122368          positive                        0.3486   \n",
      "2  570301083672813571           neutral                        0.6837   \n",
      "3  570301031407624196          negative                        1.0000   \n",
      "4  570300817074462722          negative                        1.0000   \n",
      "\n",
      "  negativereason  negativereason_confidence         airline  \\\n",
      "0            NaN                        NaN  Virgin America   \n",
      "1            NaN                     0.0000  Virgin America   \n",
      "2            NaN                        NaN  Virgin America   \n",
      "3     Bad Flight                     0.7033  Virgin America   \n",
      "4     Can't Tell                     1.0000  Virgin America   \n",
      "\n",
      "  airline_sentiment_gold        name negativereason_gold  retweet_count  \\\n",
      "0                    NaN     cairdin                 NaN              0   \n",
      "1                    NaN    jnardino                 NaN              0   \n",
      "2                    NaN  yvonnalynn                 NaN              0   \n",
      "3                    NaN    jnardino                 NaN              0   \n",
      "4                    NaN    jnardino                 NaN              0   \n",
      "\n",
      "                                                text tweet_coord  \\\n",
      "0                @VirginAmerica What @dhepburn said.         NaN   \n",
      "1  @VirginAmerica plus you've added commercials t...         NaN   \n",
      "2  @VirginAmerica I didn't today... Must mean I n...         NaN   \n",
      "3  @VirginAmerica it's really aggressive to blast...         NaN   \n",
      "4  @VirginAmerica and it's a really big bad thing...         NaN   \n",
      "\n",
      "               tweet_created tweet_location               user_timezone  \n",
      "0  2015-02-24 11:35:52 -0800            NaN  Eastern Time (US & Canada)  \n",
      "1  2015-02-24 11:15:59 -0800            NaN  Pacific Time (US & Canada)  \n",
      "2  2015-02-24 11:15:48 -0800      Lets Play  Central Time (US & Canada)  \n",
      "3  2015-02-24 11:15:36 -0800            NaN  Pacific Time (US & Canada)  \n",
      "4  2015-02-24 11:14:45 -0800            NaN  Pacific Time (US & Canada)  \n"
     ]
    }
   ],
   "source": [
    "import pandas as pd\n",
    "from sklearn.model_selection import train_test_split\n",
    "\n",
    "# Load the dataset (assuming it's in CSV format)\n",
    "df = pd.read_csv(r'C:\\Users\\ayush\\Downloads\\Tweets.csv\\Tweets.csv')\n",
    "\n",
    "# Inspect the data\n",
    "print(data.head())\n",
    "\n",
    "# Extract the features and labels\n",
    "X = data[['text', 'tweet_id']]  # Assuming numerical features are included\n",
    "y = data['airline_sentiment']  # Assuming the labels are in a column named 'sentiment'\n"
   ]
  },
  {
   "cell_type": "code",
   "execution_count": 108,
   "id": "5abe34e2-c957-41aa-9a1b-25f2d2893358",
   "metadata": {},
   "outputs": [
    {
     "name": "stderr",
     "output_type": "stream",
     "text": [
      "C:\\Users\\ayush\\AppData\\Local\\Temp\\ipykernel_22356\\635708292.py:20: SettingWithCopyWarning: \n",
      "A value is trying to be set on a copy of a slice from a DataFrame.\n",
      "Try using .loc[row_indexer,col_indexer] = value instead\n",
      "\n",
      "See the caveats in the documentation: https://pandas.pydata.org/pandas-docs/stable/user_guide/indexing.html#returning-a-view-versus-a-copy\n",
      "  X['text'] = X['text'].apply(preprocess_text)\n"
     ]
    }
   ],
   "source": [
    "import nltk\n",
    "from nltk.corpus import stopwords\n",
    "from nltk.stem import WordNetLemmatizer\n",
    "import re\n",
    "\n",
    "#nltk.download('stopwords')\n",
    "#nltk.download('wordnet')\n",
    "\n",
    "lemmatizer = WordNetLemmatizer()\n",
    "stop_words = set(stopwords.words('english'))\n",
    "\n",
    "def preprocess_text(text):\n",
    "    text = re.sub(r'\\W', ' ', text)  # Remove special characters\n",
    "    text = text.lower()  # Convert to lowercase\n",
    "    text = text.split()  # Tokenize\n",
    "    text = [lemmatizer.lemmatize(word) for word in text if word not in stop_words]  # Lemmatize and remove stop words\n",
    "    text = ' '.join(text)\n",
    "    return text\n",
    "\n",
    "X['text'] = X['text'].apply(preprocess_text)\n"
   ]
  },
  {
   "cell_type": "code",
   "execution_count": 110,
   "id": "e09b096e-1280-4268-a4ec-56397552a0dc",
   "metadata": {},
   "outputs": [],
   "source": [
    "from sklearn.feature_extraction.text import CountVectorizer\n",
    "from scipy.sparse import hstack\n",
    "from sklearn.model_selection import train_test_split\n",
    "\n",
    "# Use CountVectorizer instead of TfidfVectorizer\n",
    "count_vectorizer = CountVectorizer(max_features=5000)  # Adjust the max_features as needed\n",
    "X_count = count_vectorizer.fit_transform(X['text'])\n",
    "\n",
    "# Combine the CountVectorizer features with the numerical features\n",
    "X_combined = hstack([X_count, X[['tweet_id']].values])\n",
    "\n",
    "# Split the data into training and testing sets\n",
    "X_train, X_test, y_train, y_test = train_test_split(X_combined, y, test_size=0.2, random_state=42)\n"
   ]
  },
  {
   "cell_type": "code",
   "execution_count": 112,
   "id": "fefef62d-a730-48a5-9132-21b7cf08bf09",
   "metadata": {},
   "outputs": [],
   "source": [
    "from sklearn.ensemble import RandomForestClassifier, GradientBoostingClassifier, StackingClassifier\n",
    "from sklearn.naive_bayes import MultinomialNB\n",
    "from sklearn.linear_model import LogisticRegression\n",
    "\n",
    "# Define the base models\n",
    "rf = RandomForestClassifier(random_state=42)\n",
    "\n",
    "rf_clf=rf.fit(X_train, y_train)  # Fitting the model\n",
    "\n",
    "# Now access the feature importances\n",
    "feature_importances = rf.feature_importances_\n",
    "nb = MultinomialNB()\n",
    "nb_clf=nb.fit(X_train,y_train)\n",
    "\n",
    "# Define the stacking classifier\n",
    "estimators = [\n",
    "    ('rf', rf),\n",
    "    ('nb', nb)\n",
    "]\n",
    "stacking_clf = StackingClassifier(estimators=estimators, final_estimator=LogisticRegression())\n"
   ]
  },
  {
   "cell_type": "code",
   "execution_count": 113,
   "id": "67e0f6ad-88ec-48e8-a439-1c44b3cb381c",
   "metadata": {},
   "outputs": [],
   "source": [
    "from bayes_opt import BayesianOptimization\n",
    "from sklearn.metrics import accuracy_score\n",
    "\n",
    "# Define the function to optimize\n",
    "def optimize_rf(n_estimators, max_depth, min_samples_split):\n",
    "    rf.n_estimators = int(n_estimators)\n",
    "    rf.max_depth = int(max_depth)\n",
    "    rf.min_samples_split = int(min_samples_split)\n",
    "    \n",
    "    stacking_clf.fit(X_train, y_train)\n",
    "    y_pred = stacking_clf.predict(X_test)\n",
    "    return accuracy_score(y_test, y_pred)\n",
    "\n",
    "# Define the hyperparameter space\n",
    "pbounds = {\n",
    "    'n_estimators': (50, 200),\n",
    "    'max_depth': (3, 10),\n",
    "    'min_samples_split': (2, 10)\n",
    "}\n",
    "\n",
    "optimizer = BayesianOptimization(\n",
    "    f=optimize_rf,\n",
    "    pbounds=pbounds,\n",
    "    random_state=42\n",
    ")\n"
   ]
  },
  {
   "cell_type": "code",
   "execution_count": 114,
   "id": "f340863d-bbe7-497d-b5b4-28dcdb89edf8",
   "metadata": {},
   "outputs": [
    {
     "name": "stdout",
     "output_type": "stream",
     "text": [
      "|   iter    |  target   | max_depth | min_sa... | n_esti... |\n",
      "-------------------------------------------------------------\n",
      "| \u001b[39m1        \u001b[39m | \u001b[39m0.7886   \u001b[39m | \u001b[39m5.622    \u001b[39m | \u001b[39m9.606    \u001b[39m | \u001b[39m159.8    \u001b[39m |\n",
      "| \u001b[35m2        \u001b[39m | \u001b[35m0.7896   \u001b[39m | \u001b[35m7.191    \u001b[39m | \u001b[35m3.248    \u001b[39m | \u001b[35m73.4     \u001b[39m |\n",
      "| \u001b[39m3        \u001b[39m | \u001b[39m0.7865   \u001b[39m | \u001b[39m3.407    \u001b[39m | \u001b[39m8.929    \u001b[39m | \u001b[39m140.2    \u001b[39m |\n",
      "| \u001b[39m4        \u001b[39m | \u001b[39m0.7893   \u001b[39m | \u001b[39m7.957    \u001b[39m | \u001b[39m2.165    \u001b[39m | \u001b[39m195.5    \u001b[39m |\n",
      "| \u001b[39m5        \u001b[39m | \u001b[39m0.7886   \u001b[39m | \u001b[39m8.827    \u001b[39m | \u001b[39m3.699    \u001b[39m | \u001b[39m77.27    \u001b[39m |\n",
      "| \u001b[39m6        \u001b[39m | \u001b[39m0.7896   \u001b[39m | \u001b[39m5.879    \u001b[39m | \u001b[39m3.947    \u001b[39m | \u001b[39m69.38    \u001b[39m |\n",
      "| \u001b[39m7        \u001b[39m | \u001b[39m0.7879   \u001b[39m | \u001b[39m4.398    \u001b[39m | \u001b[39m9.821    \u001b[39m | \u001b[39m187.9    \u001b[39m |\n",
      "| \u001b[39m8        \u001b[39m | \u001b[39m0.7886   \u001b[39m | \u001b[39m3.0      \u001b[39m | \u001b[39m10.0     \u001b[39m | \u001b[39m72.57    \u001b[39m |\n",
      "| \u001b[35m9        \u001b[39m | \u001b[35m0.79     \u001b[39m | \u001b[35m10.0     \u001b[39m | \u001b[35m2.0      \u001b[39m | \u001b[35m68.63    \u001b[39m |\n",
      "| \u001b[35m10       \u001b[39m | \u001b[35m0.7903   \u001b[39m | \u001b[35m8.643    \u001b[39m | \u001b[35m2.12     \u001b[39m | \u001b[35m58.06    \u001b[39m |\n",
      "| \u001b[39m11       \u001b[39m | \u001b[39m0.7893   \u001b[39m | \u001b[39m9.888    \u001b[39m | \u001b[39m7.901    \u001b[39m | \u001b[39m51.47    \u001b[39m |\n",
      "| \u001b[39m12       \u001b[39m | \u001b[39m0.7883   \u001b[39m | \u001b[39m3.0      \u001b[39m | \u001b[39m2.0      \u001b[39m | \u001b[39m54.68    \u001b[39m |\n",
      "| \u001b[39m13       \u001b[39m | \u001b[39m0.7893   \u001b[39m | \u001b[39m10.0     \u001b[39m | \u001b[39m5.653    \u001b[39m | \u001b[39m61.82    \u001b[39m |\n",
      "| \u001b[39m14       \u001b[39m | \u001b[39m0.7889   \u001b[39m | \u001b[39m6.246    \u001b[39m | \u001b[39m2.0      \u001b[39m | \u001b[39m62.44    \u001b[39m |\n",
      "| \u001b[35m15       \u001b[39m | \u001b[35m0.791    \u001b[39m | \u001b[35m10.0     \u001b[39m | \u001b[35m2.0      \u001b[39m | \u001b[35m54.89    \u001b[39m |\n",
      "| \u001b[39m16       \u001b[39m | \u001b[39m0.7906   \u001b[39m | \u001b[39m10.0     \u001b[39m | \u001b[39m2.0      \u001b[39m | \u001b[39m50.0     \u001b[39m |\n",
      "| \u001b[39m17       \u001b[39m | \u001b[39m0.7906   \u001b[39m | \u001b[39m9.92     \u001b[39m | \u001b[39m2.549    \u001b[39m | \u001b[39m108.3    \u001b[39m |\n",
      "| \u001b[39m18       \u001b[39m | \u001b[39m0.7896   \u001b[39m | \u001b[39m8.468    \u001b[39m | \u001b[39m9.837    \u001b[39m | \u001b[39m106.9    \u001b[39m |\n",
      "| \u001b[39m19       \u001b[39m | \u001b[39m0.7896   \u001b[39m | \u001b[39m10.0     \u001b[39m | \u001b[39m2.0      \u001b[39m | \u001b[39m115.6    \u001b[39m |\n",
      "| \u001b[39m20       \u001b[39m | \u001b[39m0.7896   \u001b[39m | \u001b[39m8.643    \u001b[39m | \u001b[39m2.0      \u001b[39m | \u001b[39m101.5    \u001b[39m |\n",
      "| \u001b[39m21       \u001b[39m | \u001b[39m0.7883   \u001b[39m | \u001b[39m3.016    \u001b[39m | \u001b[39m2.0      \u001b[39m | \u001b[39m109.1    \u001b[39m |\n",
      "| \u001b[39m22       \u001b[39m | \u001b[39m0.7896   \u001b[39m | \u001b[39m10.0     \u001b[39m | \u001b[39m6.481    \u001b[39m | \u001b[39m111.5    \u001b[39m |\n",
      "| \u001b[39m23       \u001b[39m | \u001b[39m0.7883   \u001b[39m | \u001b[39m9.978    \u001b[39m | \u001b[39m9.768    \u001b[39m | \u001b[39m95.44    \u001b[39m |\n",
      "| \u001b[39m24       \u001b[39m | \u001b[39m0.7889   \u001b[39m | \u001b[39m9.825    \u001b[39m | \u001b[39m2.113    \u001b[39m | \u001b[39m171.2    \u001b[39m |\n",
      "| \u001b[39m25       \u001b[39m | \u001b[39m0.7906   \u001b[39m | \u001b[39m10.0     \u001b[39m | \u001b[39m10.0     \u001b[39m | \u001b[39m123.3    \u001b[39m |\n",
      "=============================================================\n"
     ]
    }
   ],
   "source": [
    "optimizer.maximize(init_points=5, n_iter=20)\n",
    "\n",
    "# Extract the best parameters\n",
    "best_params = optimizer.max['params']\n",
    "rf.n_estimators = int(best_params['n_estimators'])\n",
    "rf.max_depth = int(best_params['max_depth'])\n",
    "rf.min_samples_split = int(best_params['min_samples_split'])\n"
   ]
  },
  {
   "cell_type": "code",
   "execution_count": 118,
   "id": "b5dc8482-d86c-4c1a-a087-abcbdd9cca50",
   "metadata": {},
   "outputs": [],
   "source": [
    "stacking_clf.fit(X_train, y_train)\n",
    "y_pred =stacking_clf.predict(X_test)\n"
   ]
  },
  {
   "cell_type": "code",
   "execution_count": 120,
   "id": "9119dabb-6622-4933-8d02-c77009abb5dc",
   "metadata": {},
   "outputs": [
    {
     "name": "stdout",
     "output_type": "stream",
     "text": [
      "Final Stacking Classifier Accuracy: 0.7910\n",
      "              precision    recall  f1-score   support\n",
      "\n",
      "    negative       0.82      0.93      0.87      1889\n",
      "     neutral       0.65      0.42      0.51       580\n",
      "    positive       0.77      0.67      0.72       459\n",
      "\n",
      "    accuracy                           0.79      2928\n",
      "   macro avg       0.75      0.68      0.70      2928\n",
      "weighted avg       0.78      0.79      0.78      2928\n",
      "\n"
     ]
    }
   ],
   "source": [
    "from sklearn.metrics import classification_report, accuracy_score\n",
    "\n",
    "accuracy = accuracy_score(y_test, y_pred)\n",
    "print(f\"Final Stacking Classifier Accuracy: {accuracy:.4f}\")\n",
    "print(classification_report(y_test, y_pred))\n"
   ]
  },
  {
   "cell_type": "code",
   "execution_count": 122,
   "id": "32bb7e40-588d-4ca6-a62a-782a362c453d",
   "metadata": {},
   "outputs": [
    {
     "ename": "IndexError",
     "evalue": "index 5000 is out of bounds for axis 0 with size 5000",
     "output_type": "error",
     "traceback": [
      "\u001b[1;31m---------------------------------------------------------------------------\u001b[0m",
      "\u001b[1;31mIndexError\u001b[0m                                Traceback (most recent call last)",
      "Cell \u001b[1;32mIn[122], line 8\u001b[0m\n\u001b[0;32m      6\u001b[0m plt\u001b[38;5;241m.\u001b[39mfigure(figsize\u001b[38;5;241m=\u001b[39m(\u001b[38;5;241m10\u001b[39m, \u001b[38;5;241m6\u001b[39m))\n\u001b[0;32m      7\u001b[0m plt\u001b[38;5;241m.\u001b[39mbarh(\u001b[38;5;28mrange\u001b[39m(\u001b[38;5;28mlen\u001b[39m(indices)), feature_importances[indices], align\u001b[38;5;241m=\u001b[39m\u001b[38;5;124m'\u001b[39m\u001b[38;5;124mcenter\u001b[39m\u001b[38;5;124m'\u001b[39m)\n\u001b[1;32m----> 8\u001b[0m plt\u001b[38;5;241m.\u001b[39myticks(\u001b[38;5;28mrange\u001b[39m(\u001b[38;5;28mlen\u001b[39m(indices)), [\u001b[43mtfidf\u001b[49m\u001b[38;5;241;43m.\u001b[39;49m\u001b[43mget_feature_names_out\u001b[49m\u001b[43m(\u001b[49m\u001b[43m)\u001b[49m\u001b[43m[\u001b[49m\u001b[43mi\u001b[49m\u001b[43m]\u001b[49m \u001b[38;5;28;01mfor\u001b[39;00m i \u001b[38;5;129;01min\u001b[39;00m indices])\n\u001b[0;32m      9\u001b[0m plt\u001b[38;5;241m.\u001b[39mxlabel(\u001b[38;5;124m'\u001b[39m\u001b[38;5;124mFeature Importance\u001b[39m\u001b[38;5;124m'\u001b[39m)\n\u001b[0;32m     10\u001b[0m plt\u001b[38;5;241m.\u001b[39mtitle(\u001b[38;5;124m'\u001b[39m\u001b[38;5;124mTop 10 Important Features\u001b[39m\u001b[38;5;124m'\u001b[39m)\n",
      "\u001b[1;31mIndexError\u001b[0m: index 5000 is out of bounds for axis 0 with size 5000"
     ]
    },
    {
     "data": {
      "image/png": "[encoded data removed]",
      "text/plain": [
       "<Figure size 1000x600 with 1 Axes>"
      ]
     },
     "metadata": {},
     "output_type": "display_data"
    }
   ],
   "source": [
    "import matplotlib.pyplot as plt\n",
    "\n",
    "# Plot feature importance\n",
    "feature_importances = rf.feature_importances_ \n",
    "indices = np.argsort(feature_importances)[-10:]  # Top 10 features\n",
    "plt.figure(figsize=(10, 6))\n",
    "plt.barh(range(len(indices)), feature_importances[indices], align='center')\n",
    "plt.yticks(range(len(indices)), [tfidf.get_feature_names_out()[i] for i in indices])\n",
    "plt.xlabel('Feature Importance')\n",
    "plt.title('Top 10 Important Features')\n",
    "plt.show()\n"
   ]
  },
  {
   "cell_type": "code",
   "execution_count": null,
   "id": "9373ece3-acc3-4d71-97c2-76a9fd9ebf0b",
   "metadata": {},
   "outputs": [],
   "source": []
  }
 ],
 "metadata": {
  "kernelspec": {
   "display_name": "Python 3 (ipykernel)",
   "language": "python",
   "name": "python3"
  },
  "language_info": {
   "codemirror_mode": {
    "name": "ipython",
    "version": 3
   },
   "file_extension": ".py",
   "mimetype": "text/x-python",
   "name": "python",
   "nbconvert_exporter": "python",
   "pygments_lexer": "ipython3",
   "version": "3.12.4"
  }
 },
 "nbformat": 4,
 "nbformat_minor": 5
}
